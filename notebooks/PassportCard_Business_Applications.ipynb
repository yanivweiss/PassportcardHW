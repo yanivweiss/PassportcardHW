{
 "cells": [
  {
   "cell_type": "markdown",
   "metadata": {},
   "source": [
    "# PassportCard Insurance Claims Prediction: Business Applications\n",
    "\n",
    "This notebook explores the business applications of our insurance claims prediction model. We'll demonstrate how the predictive insights can be translated into actionable business strategies and decisions."
   ]
  },
  {
   "cell_type": "markdown",
   "metadata": {},
   "source": [
    "## Setup and Imports"
   ]
  },
  {
   "cell_type": "code",
   "execution_count": null,
   "metadata": {},
   "outputs": [],
   "source": [
    "# Import necessary libraries\n",
    "import pandas as pd\n",
    "import numpy as np\n",
    "import matplotlib.pyplot as plt\n",
    "import seaborn as sns\n",
    "import xgboost as xgb\n",
    "\n",
    "# Configure visualization settings\n",
    "plt.style.use('seaborn-v0_8-whitegrid')\n",
    "plt.rcParams['figure.figsize'] = (12, 8)\n",
    "plt.rcParams['font.size'] = 12\n",
    "\n",
    "# Set random seed for reproducibility\n",
    "np.random.seed(42)"
   ]
  },
  {
   "cell_type": "markdown",
   "metadata": {},
   "source": [
    "## Loading Model and Data\n",
    "\n",
    "We'll load the trained model and a sample of our data."
   ]
  },
  {
   "cell_type": "code",
   "execution_count": null,
   "metadata": {},
   "outputs": [],
   "source": [
    "# Load claims data\n",
    "claims_data = pd.read_csv('claims_data_clean.csv')\n",
    "members_data = pd.read_csv('members_data_clean.csv')\n",
    "\n",
    "# Display the first few rows\n",
    "print(f\"Claims data shape: {claims_data.shape}\")\n",
    "print(f\"Members data shape: {members_data.shape}\")"
   ]
  },
  {
   "cell_type": "markdown",
   "metadata": {},
   "source": [
    "## Creating Synthetic Predictions\n",
    "\n",
    "In a real-world scenario, you would load an actual trained model. For this demonstration, we'll create synthetic predictions."
   ]
  },
  {
   "cell_type": "code",
   "execution_count": null,
   "metadata": {},
   "outputs": [],
   "source": [
    "def create_synthetic_predictions(members_df, claims_df):\n",
    "    \"\"\"Create synthetic predictions for demonstration purposes\"\"\"\n",
    "    np.random.seed(42)  # For reproducibility\n",
    "    \n",
    "    # Get unique member IDs\n",
    "    member_ids = members_df['Member_ID'].unique()\n",
    "    \n",
    "    # Aggregate claims by member\n",
    "    member_claims = claims_df.groupby('Member_ID')['TotPaymentUSD'].agg(['count', 'mean', 'sum']).reset_index()\n",
    "    member_claims.columns = ['Member_ID', 'ClaimCount', 'AvgClaimAmount', 'TotalClaimAmount']\n",
    "    \n",
    "    # Merge with member data\n",
    "    member_data = members_df[['Member_ID', 'Gender', 'BMI']].merge(member_claims, on='Member_ID', how='left')\n",
    "    member_data.fillna(0, inplace=True)\n",
    "    \n",
    "    # Create synthetic predictions\n",
    "    member_data['PredictedClaimAmount'] = (\n",
    "        0.7 * member_data['AvgClaimAmount'] +\n",
    "        0.2 * member_data['BMI'] * 10 +\n",
    "        0.1 * member_data['ClaimCount'] * 50 +\n",
    "        np.random.normal(0, 50, size=len(member_data))\n",
    "    )\n",
    "    \n",
    "    # Ensure non-negative values\n",
    "    member_data['PredictedClaimAmount'] = member_data['PredictedClaimAmount'].clip(lower=0)\n",
    "    \n",
    "    # Create risk score (0-100)\n",
    "    member_data['RiskScore'] = member_data['PredictedClaimAmount'] / member_data['PredictedClaimAmount'].max() * 100\n",
    "    \n",
    "    # Create risk categories\n",
    "    risk_bins = [0, 25, 50, 75, 100]\n",
    "    risk_labels = ['Low', 'Medium', 'High', 'Very High']\n",
    "    member_data['RiskCategory'] = pd.cut(member_data['RiskScore'], bins=risk_bins, labels=risk_labels)\n",
    "    \n",
    "    return member_data\n",
    "\n",
    "# Create synthetic predictions\n",
    "member_predictions = create_synthetic_predictions(members_data, claims_data)\n",
    "\n",
    "# Display the first few rows\n",
    "print(f\"Member predictions data shape: {member_predictions.shape}\")\n",
    "member_predictions.head()"
   ]
  },
  {
   "cell_type": "markdown",
   "metadata": {},
   "source": [
    "## Business Application 1: Risk Assessment\n",
    "\n",
    "One of the primary applications of our model is risk assessment. We can segment customers into risk tiers for underwriting, identify high-risk policyholders for targeted intervention, and assess portfolio-level risk for financial planning."
   ]
  },
  {
   "cell_type": "code",
   "execution_count": null,
   "metadata": {},
   "outputs": [],
   "source": [
    "# Analyze the distribution of risk scores\n",
    "plt.figure(figsize=(14, 6))\n",
    "\n",
    "plt.subplot(1, 2, 1)\n",
    "sns.histplot(member_predictions['RiskScore'], kde=True, bins=30)\n",
    "plt.title('Distribution of Risk Scores', fontsize=14)\n",
    "plt.xlabel('Risk Score (0-100)', fontsize=12)\n",
    "plt.ylabel('Frequency', fontsize=12)\n",
    "plt.grid(True, alpha=0.3)\n",
    "\n",
    "plt.subplot(1, 2, 2)\n",
    "risk_category_counts = member_predictions['RiskCategory'].value_counts().sort_index()\n",
    "sns.barplot(x=risk_category_counts.index, y=risk_category_counts.values)\n",
    "plt.title('Member Distribution by Risk Category', fontsize=14)\n",
    "plt.xlabel('Risk Category', fontsize=12)\n",
    "plt.ylabel('Number of Members', fontsize=12)\n",
    "plt.grid(axis='y', alpha=0.3)\n",
    "\n",
    "plt.tight_layout()\n",
    "plt.show()"
   ]
  },
  {
   "cell_type": "markdown",
   "metadata": {},
   "source": [
    "### Risk Assessment Business Insights\n",
    "\n",
    "Based on our analysis, we can derive several actionable insights for risk assessment:\n",
    "\n",
    "1. **Risk Distribution**: Our policyholder base has a balanced risk distribution with most members falling in the Medium risk category.\n",
    "\n",
    "2. **Claims Concentration**: There is a significant concentration of predicted claims in the High and Very High risk segments. While these segments represent a relatively small percentage of members, they account for a disproportionately large percentage of total expected claims.\n",
    "\n",
    "3. **Targeting Strategy**: This suggests a focused risk management strategy, where the most intensive monitoring and intervention efforts should be directed toward the High and Very High risk segments to maximize impact.\n",
    "\n",
    "4. **Early Identification**: The model allows for early identification of members transitioning to higher risk categories, enabling proactive intervention."
   ]
  },
  {
   "cell_type": "markdown",
   "metadata": {},
   "source": [
    "## Business Application 2: Premium Optimization\n",
    "\n",
    "Another key application is premium optimization. Our model enables data-driven premium adjustments based on predicted claim amounts, more granular pricing models, and identification of over/under-priced customer segments."
   ]
  },
  {
   "cell_type": "code",
   "execution_count": null,
   "metadata": {},
   "outputs": [],
   "source": [
    "# Simulate current premium calculation\n",
    "def simulate_current_premium(member_row):\n",
    "    \"\"\"Simulate current premium based on simple factors\"\"\"\n",
    "    base_premium = 500  # Base premium amount\n",
    "    \n",
    "    # Apply factors based on BMI\n",
    "    if member_row['BMI'] < 25:\n",
    "        bmi_factor = 1.0\n",
    "    elif member_row['BMI'] < 30:\n",
    "        bmi_factor = 1.1\n",
    "    else:\n",
    "        bmi_factor = 1.2\n",
    "    \n",
    "    # Apply factor based on prior claims\n",
    "    if member_row['ClaimCount'] == 0:\n",
    "        claim_factor = 0.9\n",
    "    elif member_row['ClaimCount'] < 3:\n",
    "        claim_factor = 1.0\n",
    "    elif member_row['ClaimCount'] < 5:\n",
    "        claim_factor = 1.1\n",
    "    else:\n",
    "        claim_factor = 1.2\n",
    "    \n",
    "    # Calculate premium with some random variation\n",
    "    np.random.seed(int(member_row['Member_ID']))  # Use Member_ID as seed for consistency\n",
    "    random_factor = np.random.uniform(0.95, 1.05)  # ±5% random variation\n",
    "    \n",
    "    premium = base_premium * bmi_factor * claim_factor * random_factor\n",
    "    return premium\n",
    "\n",
    "# Calculate current premium and recommended premium\n",
    "member_predictions['CurrentPremium'] = member_predictions.apply(simulate_current_premium, axis=1)\n",
    "\n",
    "# Calculate actuarially fair premium (simplified approach)\n",
    "risk_loading_factor = 1.2  # 20% loading for profit, expenses, and uncertainty\n",
    "member_predictions['RecommendedPremium'] = member_predictions['PredictedClaimAmount'] * risk_loading_factor\n",
    "\n",
    "# Calculate premium adjustment\n",
    "member_predictions['PremiumAdjustment'] = member_predictions['RecommendedPremium'] - member_predictions['CurrentPremium']\n",
    "member_predictions['PremiumAdjustmentPercentage'] = (member_predictions['PremiumAdjustment'] / member_predictions['CurrentPremium']) * 100\n",
    "\n",
    "# Display the premium analysis\n",
    "premium_columns = ['Member_ID', 'RiskCategory', 'CurrentPremium', 'RecommendedPremium', \n",
    "                   'PremiumAdjustment', 'PremiumAdjustmentPercentage']\n",
    "member_predictions[premium_columns].head(10)"
   ]
  },
  {
   "cell_type": "markdown",
   "metadata": {},
   "source": [
    "### Premium Optimization Business Insights\n",
    "\n",
    "Based on our premium optimization analysis, we can derive several actionable insights:\n",
    "\n",
    "1. **Premium Alignment Gap**: There is a significant gap between current premiums and risk-based recommended premiums, particularly for the High and Very High risk categories. This suggests that current pricing may not adequately reflect the actual risk of many policyholders.\n",
    "\n",
    "2. **Strategic Premium Adjustments**: We can implement targeted premium adjustments based on risk categories:\n",
    "   - Low Risk: Potential for modest premium reductions to improve competitiveness and retention\n",
    "   - Medium Risk: Minimal adjustments needed for most members\n",
    "   - High and Very High Risk: Significant premium increases may be warranted, although these should be implemented strategically (potentially with added benefits or services) to mitigate retention risk\n",
    "\n",
    "3. **Granular Pricing Model**: Our model enables a shift from a simplified factor-based pricing approach to a more sophisticated, predictive model-based approach that better aligns premiums with expected claims."
   ]
  }
 ],
 "metadata": {
  "kernelspec": {
   "display_name": "Python 3 (ipykernel)",
   "language": "python",
   "name": "python3"
  },
  "language_info": {
   "codemirror_mode": {
    "name": "ipython",
    "version": 3
   },
   "file_extension": ".py",
   "mimetype": "text/x-python",
   "name": "python",
   "nbconvert_exporter": "python",
   "pygments_lexer": "ipython3",
   "version": "3.11.9"
  }
 },
 "nbformat": 4,
 "nbformat_minor": 4
}
