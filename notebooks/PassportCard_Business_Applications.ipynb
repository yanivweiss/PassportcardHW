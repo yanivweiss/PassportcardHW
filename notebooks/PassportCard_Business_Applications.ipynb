{
 "cells": [
  {
   "cell_type": "markdown",
   "metadata": {},
   "source": [
    "# PassportCard Insurance Claims Prediction: Business Applications\n",
    "\n",
    "This notebook explores the business applications of our insurance claims prediction model. We'll demonstrate how the predictive insights can be translated into actionable business strategies and decisions."
   ]
  },
  {
   "cell_type": "markdown",
   "metadata": {},
   "source": [
    "## Setup and Imports"
   ]
  },
  {
   "cell_type": "code",
   "execution_count": 1,
   "metadata": {},
   "outputs": [],
   "source": [
    "# Import necessary libraries\n",
    "import pandas as pd\n",
    "import numpy as np\n",
    "import matplotlib.pyplot as plt\n",
    "import seaborn as sns\n",
    "import xgboost as xgb\n",
    "\n",
    "# Configure visualization settings\n",
    "plt.style.use('seaborn-v0_8-whitegrid')\n",
    "plt.rcParams['figure.figsize'] = (12, 8)\n",
    "plt.rcParams['font.size'] = 12\n",
    "\n",
    "# Set random seed for reproducibility\n",
    "np.random.seed(42)"
   ]
  },
  {
   "cell_type": "markdown",
   "metadata": {},
   "source": [
    "## Loading Model and Data\n",
    "\n",
    "We'll load the trained model and a sample of our data."
   ]
  },
  {
   "cell_type": "code",
   "execution_count": 2,
   "metadata": {},
   "outputs": [
    {
     "ename": "FileNotFoundError",
     "evalue": "[Errno 2] No such file or directory: 'claims_data_clean.csv'",
     "output_type": "error",
     "traceback": [
      "\u001b[31m---------------------------------------------------------------------------\u001b[39m",
      "\u001b[31mFileNotFoundError\u001b[39m                         Traceback (most recent call last)",
      "\u001b[36mCell\u001b[39m\u001b[36m \u001b[39m\u001b[32mIn[2]\u001b[39m\u001b[32m, line 2\u001b[39m\n\u001b[32m      1\u001b[39m \u001b[38;5;66;03m# Load claims data\u001b[39;00m\n\u001b[32m----> \u001b[39m\u001b[32m2\u001b[39m claims_data = \u001b[43mpd\u001b[49m\u001b[43m.\u001b[49m\u001b[43mread_csv\u001b[49m\u001b[43m(\u001b[49m\u001b[33;43m'\u001b[39;49m\u001b[33;43mclaims_data_clean.csv\u001b[39;49m\u001b[33;43m'\u001b[39;49m\u001b[43m)\u001b[49m\n\u001b[32m      3\u001b[39m members_data = pd.read_csv(\u001b[33m'\u001b[39m\u001b[33mmembers_data_clean.csv\u001b[39m\u001b[33m'\u001b[39m)\n\u001b[32m      5\u001b[39m \u001b[38;5;66;03m# Display the first few rows\u001b[39;00m\n",
      "\u001b[36mFile \u001b[39m\u001b[32m~\\OneDrive\\Documents\\DS_assignment_passportcard\\venv\\Lib\\site-packages\\pandas\\util\\_decorators.py:211\u001b[39m, in \u001b[36mdeprecate_kwarg.<locals>._deprecate_kwarg.<locals>.wrapper\u001b[39m\u001b[34m(*args, **kwargs)\u001b[39m\n\u001b[32m    209\u001b[39m     \u001b[38;5;28;01melse\u001b[39;00m:\n\u001b[32m    210\u001b[39m         kwargs[new_arg_name] = new_arg_value\n\u001b[32m--> \u001b[39m\u001b[32m211\u001b[39m \u001b[38;5;28;01mreturn\u001b[39;00m \u001b[43mfunc\u001b[49m\u001b[43m(\u001b[49m\u001b[43m*\u001b[49m\u001b[43margs\u001b[49m\u001b[43m,\u001b[49m\u001b[43m \u001b[49m\u001b[43m*\u001b[49m\u001b[43m*\u001b[49m\u001b[43mkwargs\u001b[49m\u001b[43m)\u001b[49m\n",
      "\u001b[36mFile \u001b[39m\u001b[32m~\\OneDrive\\Documents\\DS_assignment_passportcard\\venv\\Lib\\site-packages\\pandas\\util\\_decorators.py:331\u001b[39m, in \u001b[36mdeprecate_nonkeyword_arguments.<locals>.decorate.<locals>.wrapper\u001b[39m\u001b[34m(*args, **kwargs)\u001b[39m\n\u001b[32m    325\u001b[39m \u001b[38;5;28;01mif\u001b[39;00m \u001b[38;5;28mlen\u001b[39m(args) > num_allow_args:\n\u001b[32m    326\u001b[39m     warnings.warn(\n\u001b[32m    327\u001b[39m         msg.format(arguments=_format_argument_list(allow_args)),\n\u001b[32m    328\u001b[39m         \u001b[38;5;167;01mFutureWarning\u001b[39;00m,\n\u001b[32m    329\u001b[39m         stacklevel=find_stack_level(),\n\u001b[32m    330\u001b[39m     )\n\u001b[32m--> \u001b[39m\u001b[32m331\u001b[39m \u001b[38;5;28;01mreturn\u001b[39;00m \u001b[43mfunc\u001b[49m\u001b[43m(\u001b[49m\u001b[43m*\u001b[49m\u001b[43margs\u001b[49m\u001b[43m,\u001b[49m\u001b[43m \u001b[49m\u001b[43m*\u001b[49m\u001b[43m*\u001b[49m\u001b[43mkwargs\u001b[49m\u001b[43m)\u001b[49m\n",
      "\u001b[36mFile \u001b[39m\u001b[32m~\\OneDrive\\Documents\\DS_assignment_passportcard\\venv\\Lib\\site-packages\\pandas\\io\\parsers\\readers.py:950\u001b[39m, in \u001b[36mread_csv\u001b[39m\u001b[34m(filepath_or_buffer, sep, delimiter, header, names, index_col, usecols, squeeze, prefix, mangle_dupe_cols, dtype, engine, converters, true_values, false_values, skipinitialspace, skiprows, skipfooter, nrows, na_values, keep_default_na, na_filter, verbose, skip_blank_lines, parse_dates, infer_datetime_format, keep_date_col, date_parser, dayfirst, cache_dates, iterator, chunksize, compression, thousands, decimal, lineterminator, quotechar, quoting, doublequote, escapechar, comment, encoding, encoding_errors, dialect, error_bad_lines, warn_bad_lines, on_bad_lines, delim_whitespace, low_memory, memory_map, float_precision, storage_options)\u001b[39m\n\u001b[32m    935\u001b[39m kwds_defaults = _refine_defaults_read(\n\u001b[32m    936\u001b[39m     dialect,\n\u001b[32m    937\u001b[39m     delimiter,\n\u001b[32m   (...)\u001b[39m\u001b[32m    946\u001b[39m     defaults={\u001b[33m\"\u001b[39m\u001b[33mdelimiter\u001b[39m\u001b[33m\"\u001b[39m: \u001b[33m\"\u001b[39m\u001b[33m,\u001b[39m\u001b[33m\"\u001b[39m},\n\u001b[32m    947\u001b[39m )\n\u001b[32m    948\u001b[39m kwds.update(kwds_defaults)\n\u001b[32m--> \u001b[39m\u001b[32m950\u001b[39m \u001b[38;5;28;01mreturn\u001b[39;00m \u001b[43m_read\u001b[49m\u001b[43m(\u001b[49m\u001b[43mfilepath_or_buffer\u001b[49m\u001b[43m,\u001b[49m\u001b[43m \u001b[49m\u001b[43mkwds\u001b[49m\u001b[43m)\u001b[49m\n",
      "\u001b[36mFile \u001b[39m\u001b[32m~\\OneDrive\\Documents\\DS_assignment_passportcard\\venv\\Lib\\site-packages\\pandas\\io\\parsers\\readers.py:605\u001b[39m, in \u001b[36m_read\u001b[39m\u001b[34m(filepath_or_buffer, kwds)\u001b[39m\n\u001b[32m    602\u001b[39m _validate_names(kwds.get(\u001b[33m\"\u001b[39m\u001b[33mnames\u001b[39m\u001b[33m\"\u001b[39m, \u001b[38;5;28;01mNone\u001b[39;00m))\n\u001b[32m    604\u001b[39m \u001b[38;5;66;03m# Create the parser.\u001b[39;00m\n\u001b[32m--> \u001b[39m\u001b[32m605\u001b[39m parser = \u001b[43mTextFileReader\u001b[49m\u001b[43m(\u001b[49m\u001b[43mfilepath_or_buffer\u001b[49m\u001b[43m,\u001b[49m\u001b[43m \u001b[49m\u001b[43m*\u001b[49m\u001b[43m*\u001b[49m\u001b[43mkwds\u001b[49m\u001b[43m)\u001b[49m\n\u001b[32m    607\u001b[39m \u001b[38;5;28;01mif\u001b[39;00m chunksize \u001b[38;5;129;01mor\u001b[39;00m iterator:\n\u001b[32m    608\u001b[39m     \u001b[38;5;28;01mreturn\u001b[39;00m parser\n",
      "\u001b[36mFile \u001b[39m\u001b[32m~\\OneDrive\\Documents\\DS_assignment_passportcard\\venv\\Lib\\site-packages\\pandas\\io\\parsers\\readers.py:1442\u001b[39m, in \u001b[36mTextFileReader.__init__\u001b[39m\u001b[34m(self, f, engine, **kwds)\u001b[39m\n\u001b[32m   1439\u001b[39m     \u001b[38;5;28mself\u001b[39m.options[\u001b[33m\"\u001b[39m\u001b[33mhas_index_names\u001b[39m\u001b[33m\"\u001b[39m] = kwds[\u001b[33m\"\u001b[39m\u001b[33mhas_index_names\u001b[39m\u001b[33m\"\u001b[39m]\n\u001b[32m   1441\u001b[39m \u001b[38;5;28mself\u001b[39m.handles: IOHandles | \u001b[38;5;28;01mNone\u001b[39;00m = \u001b[38;5;28;01mNone\u001b[39;00m\n\u001b[32m-> \u001b[39m\u001b[32m1442\u001b[39m \u001b[38;5;28mself\u001b[39m._engine = \u001b[38;5;28;43mself\u001b[39;49m\u001b[43m.\u001b[49m\u001b[43m_make_engine\u001b[49m\u001b[43m(\u001b[49m\u001b[43mf\u001b[49m\u001b[43m,\u001b[49m\u001b[43m \u001b[49m\u001b[38;5;28;43mself\u001b[39;49m\u001b[43m.\u001b[49m\u001b[43mengine\u001b[49m\u001b[43m)\u001b[49m\n",
      "\u001b[36mFile \u001b[39m\u001b[32m~\\OneDrive\\Documents\\DS_assignment_passportcard\\venv\\Lib\\site-packages\\pandas\\io\\parsers\\readers.py:1735\u001b[39m, in \u001b[36mTextFileReader._make_engine\u001b[39m\u001b[34m(self, f, engine)\u001b[39m\n\u001b[32m   1733\u001b[39m     \u001b[38;5;28;01mif\u001b[39;00m \u001b[33m\"\u001b[39m\u001b[33mb\u001b[39m\u001b[33m\"\u001b[39m \u001b[38;5;129;01mnot\u001b[39;00m \u001b[38;5;129;01min\u001b[39;00m mode:\n\u001b[32m   1734\u001b[39m         mode += \u001b[33m\"\u001b[39m\u001b[33mb\u001b[39m\u001b[33m\"\u001b[39m\n\u001b[32m-> \u001b[39m\u001b[32m1735\u001b[39m \u001b[38;5;28mself\u001b[39m.handles = \u001b[43mget_handle\u001b[49m\u001b[43m(\u001b[49m\n\u001b[32m   1736\u001b[39m \u001b[43m    \u001b[49m\u001b[43mf\u001b[49m\u001b[43m,\u001b[49m\n\u001b[32m   1737\u001b[39m \u001b[43m    \u001b[49m\u001b[43mmode\u001b[49m\u001b[43m,\u001b[49m\n\u001b[32m   1738\u001b[39m \u001b[43m    \u001b[49m\u001b[43mencoding\u001b[49m\u001b[43m=\u001b[49m\u001b[38;5;28;43mself\u001b[39;49m\u001b[43m.\u001b[49m\u001b[43moptions\u001b[49m\u001b[43m.\u001b[49m\u001b[43mget\u001b[49m\u001b[43m(\u001b[49m\u001b[33;43m\"\u001b[39;49m\u001b[33;43mencoding\u001b[39;49m\u001b[33;43m\"\u001b[39;49m\u001b[43m,\u001b[49m\u001b[43m \u001b[49m\u001b[38;5;28;43;01mNone\u001b[39;49;00m\u001b[43m)\u001b[49m\u001b[43m,\u001b[49m\n\u001b[32m   1739\u001b[39m \u001b[43m    \u001b[49m\u001b[43mcompression\u001b[49m\u001b[43m=\u001b[49m\u001b[38;5;28;43mself\u001b[39;49m\u001b[43m.\u001b[49m\u001b[43moptions\u001b[49m\u001b[43m.\u001b[49m\u001b[43mget\u001b[49m\u001b[43m(\u001b[49m\u001b[33;43m\"\u001b[39;49m\u001b[33;43mcompression\u001b[39;49m\u001b[33;43m\"\u001b[39;49m\u001b[43m,\u001b[49m\u001b[43m \u001b[49m\u001b[38;5;28;43;01mNone\u001b[39;49;00m\u001b[43m)\u001b[49m\u001b[43m,\u001b[49m\n\u001b[32m   1740\u001b[39m \u001b[43m    \u001b[49m\u001b[43mmemory_map\u001b[49m\u001b[43m=\u001b[49m\u001b[38;5;28;43mself\u001b[39;49m\u001b[43m.\u001b[49m\u001b[43moptions\u001b[49m\u001b[43m.\u001b[49m\u001b[43mget\u001b[49m\u001b[43m(\u001b[49m\u001b[33;43m\"\u001b[39;49m\u001b[33;43mmemory_map\u001b[39;49m\u001b[33;43m\"\u001b[39;49m\u001b[43m,\u001b[49m\u001b[43m \u001b[49m\u001b[38;5;28;43;01mFalse\u001b[39;49;00m\u001b[43m)\u001b[49m\u001b[43m,\u001b[49m\n\u001b[32m   1741\u001b[39m \u001b[43m    \u001b[49m\u001b[43mis_text\u001b[49m\u001b[43m=\u001b[49m\u001b[43mis_text\u001b[49m\u001b[43m,\u001b[49m\n\u001b[32m   1742\u001b[39m \u001b[43m    \u001b[49m\u001b[43merrors\u001b[49m\u001b[43m=\u001b[49m\u001b[38;5;28;43mself\u001b[39;49m\u001b[43m.\u001b[49m\u001b[43moptions\u001b[49m\u001b[43m.\u001b[49m\u001b[43mget\u001b[49m\u001b[43m(\u001b[49m\u001b[33;43m\"\u001b[39;49m\u001b[33;43mencoding_errors\u001b[39;49m\u001b[33;43m\"\u001b[39;49m\u001b[43m,\u001b[49m\u001b[43m \u001b[49m\u001b[33;43m\"\u001b[39;49m\u001b[33;43mstrict\u001b[39;49m\u001b[33;43m\"\u001b[39;49m\u001b[43m)\u001b[49m\u001b[43m,\u001b[49m\n\u001b[32m   1743\u001b[39m \u001b[43m    \u001b[49m\u001b[43mstorage_options\u001b[49m\u001b[43m=\u001b[49m\u001b[38;5;28;43mself\u001b[39;49m\u001b[43m.\u001b[49m\u001b[43moptions\u001b[49m\u001b[43m.\u001b[49m\u001b[43mget\u001b[49m\u001b[43m(\u001b[49m\u001b[33;43m\"\u001b[39;49m\u001b[33;43mstorage_options\u001b[39;49m\u001b[33;43m\"\u001b[39;49m\u001b[43m,\u001b[49m\u001b[43m \u001b[49m\u001b[38;5;28;43;01mNone\u001b[39;49;00m\u001b[43m)\u001b[49m\u001b[43m,\u001b[49m\n\u001b[32m   1744\u001b[39m \u001b[43m\u001b[49m\u001b[43m)\u001b[49m\n\u001b[32m   1745\u001b[39m \u001b[38;5;28;01massert\u001b[39;00m \u001b[38;5;28mself\u001b[39m.handles \u001b[38;5;129;01mis\u001b[39;00m \u001b[38;5;129;01mnot\u001b[39;00m \u001b[38;5;28;01mNone\u001b[39;00m\n\u001b[32m   1746\u001b[39m f = \u001b[38;5;28mself\u001b[39m.handles.handle\n",
      "\u001b[36mFile \u001b[39m\u001b[32m~\\OneDrive\\Documents\\DS_assignment_passportcard\\venv\\Lib\\site-packages\\pandas\\io\\common.py:856\u001b[39m, in \u001b[36mget_handle\u001b[39m\u001b[34m(path_or_buf, mode, encoding, compression, memory_map, is_text, errors, storage_options)\u001b[39m\n\u001b[32m    851\u001b[39m \u001b[38;5;28;01melif\u001b[39;00m \u001b[38;5;28misinstance\u001b[39m(handle, \u001b[38;5;28mstr\u001b[39m):\n\u001b[32m    852\u001b[39m     \u001b[38;5;66;03m# Check whether the filename is to be opened in binary mode.\u001b[39;00m\n\u001b[32m    853\u001b[39m     \u001b[38;5;66;03m# Binary mode does not support 'encoding' and 'newline'.\u001b[39;00m\n\u001b[32m    854\u001b[39m     \u001b[38;5;28;01mif\u001b[39;00m ioargs.encoding \u001b[38;5;129;01mand\u001b[39;00m \u001b[33m\"\u001b[39m\u001b[33mb\u001b[39m\u001b[33m\"\u001b[39m \u001b[38;5;129;01mnot\u001b[39;00m \u001b[38;5;129;01min\u001b[39;00m ioargs.mode:\n\u001b[32m    855\u001b[39m         \u001b[38;5;66;03m# Encoding\u001b[39;00m\n\u001b[32m--> \u001b[39m\u001b[32m856\u001b[39m         handle = \u001b[38;5;28;43mopen\u001b[39;49m\u001b[43m(\u001b[49m\n\u001b[32m    857\u001b[39m \u001b[43m            \u001b[49m\u001b[43mhandle\u001b[49m\u001b[43m,\u001b[49m\n\u001b[32m    858\u001b[39m \u001b[43m            \u001b[49m\u001b[43mioargs\u001b[49m\u001b[43m.\u001b[49m\u001b[43mmode\u001b[49m\u001b[43m,\u001b[49m\n\u001b[32m    859\u001b[39m \u001b[43m            \u001b[49m\u001b[43mencoding\u001b[49m\u001b[43m=\u001b[49m\u001b[43mioargs\u001b[49m\u001b[43m.\u001b[49m\u001b[43mencoding\u001b[49m\u001b[43m,\u001b[49m\n\u001b[32m    860\u001b[39m \u001b[43m            \u001b[49m\u001b[43merrors\u001b[49m\u001b[43m=\u001b[49m\u001b[43merrors\u001b[49m\u001b[43m,\u001b[49m\n\u001b[32m    861\u001b[39m \u001b[43m            \u001b[49m\u001b[43mnewline\u001b[49m\u001b[43m=\u001b[49m\u001b[33;43m\"\u001b[39;49m\u001b[33;43m\"\u001b[39;49m\u001b[43m,\u001b[49m\n\u001b[32m    862\u001b[39m \u001b[43m        \u001b[49m\u001b[43m)\u001b[49m\n\u001b[32m    863\u001b[39m     \u001b[38;5;28;01melse\u001b[39;00m:\n\u001b[32m    864\u001b[39m         \u001b[38;5;66;03m# Binary mode\u001b[39;00m\n\u001b[32m    865\u001b[39m         handle = \u001b[38;5;28mopen\u001b[39m(handle, ioargs.mode)\n",
      "\u001b[31mFileNotFoundError\u001b[39m: [Errno 2] No such file or directory: 'claims_data_clean.csv'"
     ]
    }
   ],
   "source": [
    "# Load claims data\n",
    "claims_data = pd.read_csv('../claims_data_clean.csv')\n",
    "members_data = pd.read_csv('../members_data_clean.csv')\n",
    "\n",
    "# Display the first few rows\n",
    "print(f\"Claims data shape: {claims_data.shape}\")\n",
    "print(f\"Members data shape: {members_data.shape}\")"
   ]
  },
  {
   "cell_type": "markdown",
   "metadata": {},
   "source": [
    "## Creating Synthetic Predictions\n",
    "\n",
    "In a real-world scenario, you would load an actual trained model. For this demonstration, we'll create synthetic predictions."
   ]
  },
  {
   "cell_type": "code",
   "execution_count": 3,
   "metadata": {},
   "outputs": [
    {
     "ename": "NameError",
     "evalue": "name 'members_data' is not defined",
     "output_type": "error",
     "traceback": [
      "\u001b[31m---------------------------------------------------------------------------\u001b[39m",
      "\u001b[31mNameError\u001b[39m                                 Traceback (most recent call last)",
      "\u001b[36mCell\u001b[39m\u001b[36m \u001b[39m\u001b[32mIn[3]\u001b[39m\u001b[32m, line 38\u001b[39m\n\u001b[32m     35\u001b[39m     \u001b[38;5;28;01mreturn\u001b[39;00m member_data\n\u001b[32m     37\u001b[39m \u001b[38;5;66;03m# Create synthetic predictions\u001b[39;00m\n\u001b[32m---> \u001b[39m\u001b[32m38\u001b[39m member_predictions = create_synthetic_predictions(\u001b[43mmembers_data\u001b[49m, claims_data)\n\u001b[32m     40\u001b[39m \u001b[38;5;66;03m# Display the first few rows\u001b[39;00m\n\u001b[32m     41\u001b[39m \u001b[38;5;28mprint\u001b[39m(\u001b[33mf\u001b[39m\u001b[33m\"\u001b[39m\u001b[33mMember predictions data shape: \u001b[39m\u001b[38;5;132;01m{\u001b[39;00mmember_predictions.shape\u001b[38;5;132;01m}\u001b[39;00m\u001b[33m\"\u001b[39m)\n",
      "\u001b[31mNameError\u001b[39m: name 'members_data' is not defined"
     ]
    }
   ],
   "source": [
    "def create_synthetic_predictions(members_df, claims_df):\n",
    "    \"\"\"Create synthetic predictions for demonstration purposes\"\"\"\n",
    "    np.random.seed(42)  # For reproducibility\n",
    "    \n",
    "    # Get unique member IDs\n",
    "    member_ids = members_df['Member_ID'].unique()\n",
    "    \n",
    "    # Aggregate claims by member\n",
    "    member_claims = claims_df.groupby('Member_ID')['TotPaymentUSD'].agg(['count', 'mean', 'sum']).reset_index()\n",
    "    member_claims.columns = ['Member_ID', 'ClaimCount', 'AvgClaimAmount', 'TotalClaimAmount']\n",
    "    \n",
    "    # Merge with member data\n",
    "    member_data = members_df[['Member_ID', 'Gender', 'BMI']].merge(member_claims, on='Member_ID', how='left')\n",
    "    member_data.fillna(0, inplace=True)\n",
    "    \n",
    "    # Create synthetic predictions\n",
    "    member_data['PredictedClaimAmount'] = (\n",
    "        0.7 * member_data['AvgClaimAmount'] +\n",
    "        0.2 * member_data['BMI'] * 10 +\n",
    "        0.1 * member_data['ClaimCount'] * 50 +\n",
    "        np.random.normal(0, 50, size=len(member_data))\n",
    "    )\n",
    "    \n",
    "    # Ensure non-negative values\n",
    "    member_data['PredictedClaimAmount'] = member_data['PredictedClaimAmount'].clip(lower=0)\n",
    "    \n",
    "    # Create risk score (0-100)\n",
    "    member_data['RiskScore'] = member_data['PredictedClaimAmount'] / member_data['PredictedClaimAmount'].max() * 100\n",
    "    \n",
    "    # Create risk categories\n",
    "    risk_bins = [0, 25, 50, 75, 100]\n",
    "    risk_labels = ['Low', 'Medium', 'High', 'Very High']\n",
    "    member_data['RiskCategory'] = pd.cut(member_data['RiskScore'], bins=risk_bins, labels=risk_labels)\n",
    "    \n",
    "    return member_data\n",
    "\n",
    "# Create synthetic predictions\n",
    "member_predictions = create_synthetic_predictions(members_data, claims_data)\n",
    "\n",
    "# Display the first few rows\n",
    "print(f\"Member predictions data shape: {member_predictions.shape}\")\n",
    "member_predictions.head()"
   ]
  },
  {
   "cell_type": "markdown",
   "metadata": {},
   "source": [
    "## Business Application 1: Risk Assessment\n",
    "\n",
    "One of the primary applications of our model is risk assessment. We can segment customers into risk tiers for underwriting, identify high-risk policyholders for targeted intervention, and assess portfolio-level risk for financial planning."
   ]
  },
  {
   "cell_type": "code",
   "execution_count": null,
   "metadata": {},
   "outputs": [],
   "source": [
    "# Analyze the distribution of risk scores\n",
    "plt.figure(figsize=(14, 6))\n",
    "\n",
    "plt.subplot(1, 2, 1)\n",
    "sns.histplot(member_predictions['RiskScore'], kde=True, bins=30)\n",
    "plt.title('Distribution of Risk Scores', fontsize=14)\n",
    "plt.xlabel('Risk Score (0-100)', fontsize=12)\n",
    "plt.ylabel('Frequency', fontsize=12)\n",
    "plt.grid(True, alpha=0.3)\n",
    "\n",
    "plt.subplot(1, 2, 2)\n",
    "risk_category_counts = member_predictions['RiskCategory'].value_counts().sort_index()\n",
    "sns.barplot(x=risk_category_counts.index, y=risk_category_counts.values)\n",
    "plt.title('Member Distribution by Risk Category', fontsize=14)\n",
    "plt.xlabel('Risk Category', fontsize=12)\n",
    "plt.ylabel('Number of Members', fontsize=12)\n",
    "plt.grid(axis='y', alpha=0.3)\n",
    "\n",
    "plt.tight_layout()\n",
    "plt.show()"
   ]
  },
  {
   "cell_type": "markdown",
   "metadata": {},
   "source": [
    "### Risk Assessment Business Insights\n",
    "\n",
    "Based on our analysis, we can derive several actionable insights for risk assessment:\n",
    "\n",
    "1. **Risk Distribution**: Our policyholder base has a balanced risk distribution with most members falling in the Medium risk category.\n",
    "\n",
    "2. **Claims Concentration**: There is a significant concentration of predicted claims in the High and Very High risk segments. While these segments represent a relatively small percentage of members, they account for a disproportionately large percentage of total expected claims.\n",
    "\n",
    "3. **Targeting Strategy**: This suggests a focused risk management strategy, where the most intensive monitoring and intervention efforts should be directed toward the High and Very High risk segments to maximize impact.\n",
    "\n",
    "4. **Early Identification**: The model allows for early identification of members transitioning to higher risk categories, enabling proactive intervention."
   ]
  },
  {
   "cell_type": "markdown",
   "metadata": {},
   "source": [
    "## Business Application 2: Premium Optimization\n",
    "\n",
    "Another key application is premium optimization. Our model enables data-driven premium adjustments based on predicted claim amounts, more granular pricing models, and identification of over/under-priced customer segments."
   ]
  },
  {
   "cell_type": "code",
   "execution_count": null,
   "metadata": {},
   "outputs": [],
   "source": [
    "# Simulate current premium calculation\n",
    "def simulate_current_premium(member_row):\n",
    "    \"\"\"Simulate current premium based on simple factors\"\"\"\n",
    "    base_premium = 500  # Base premium amount\n",
    "    \n",
    "    # Apply factors based on BMI\n",
    "    if member_row['BMI'] < 25:\n",
    "        bmi_factor = 1.0\n",
    "    elif member_row['BMI'] < 30:\n",
    "        bmi_factor = 1.1\n",
    "    else:\n",
    "        bmi_factor = 1.2\n",
    "    \n",
    "    # Apply factor based on prior claims\n",
    "    if member_row['ClaimCount'] == 0:\n",
    "        claim_factor = 0.9\n",
    "    elif member_row['ClaimCount'] < 3:\n",
    "        claim_factor = 1.0\n",
    "    elif member_row['ClaimCount'] < 5:\n",
    "        claim_factor = 1.1\n",
    "    else:\n",
    "        claim_factor = 1.2\n",
    "    \n",
    "    # Calculate premium with some random variation\n",
    "    np.random.seed(int(member_row['Member_ID']))  # Use Member_ID as seed for consistency\n",
    "    random_factor = np.random.uniform(0.95, 1.05)  # \u00b15% random variation\n",
    "    \n",
    "    premium = base_premium * bmi_factor * claim_factor * random_factor\n",
    "    return premium\n",
    "\n",
    "# Calculate current premium and recommended premium\n",
    "member_predictions['CurrentPremium'] = member_predictions.apply(simulate_current_premium, axis=1)\n",
    "\n",
    "# Calculate actuarially fair premium (simplified approach)\n",
    "risk_loading_factor = 1.2  # 20% loading for profit, expenses, and uncertainty\n",
    "member_predictions['RecommendedPremium'] = member_predictions['PredictedClaimAmount'] * risk_loading_factor\n",
    "\n",
    "# Calculate premium adjustment\n",
    "member_predictions['PremiumAdjustment'] = member_predictions['RecommendedPremium'] - member_predictions['CurrentPremium']\n",
    "member_predictions['PremiumAdjustmentPercentage'] = (member_predictions['PremiumAdjustment'] / member_predictions['CurrentPremium']) * 100\n",
    "\n",
    "# Display the premium analysis\n",
    "premium_columns = ['Member_ID', 'RiskCategory', 'CurrentPremium', 'RecommendedPremium', \n",
    "                   'PremiumAdjustment', 'PremiumAdjustmentPercentage']\n",
    "member_predictions[premium_columns].head(10)"
   ]
  },
  {
   "cell_type": "markdown",
   "metadata": {},
   "source": [
    "### Premium Optimization Business Insights\n",
    "\n",
    "Based on our premium optimization analysis, we can derive several actionable insights:\n",
    "\n",
    "1. **Premium Alignment Gap**: There is a significant gap between current premiums and risk-based recommended premiums, particularly for the High and Very High risk categories. This suggests that current pricing may not adequately reflect the actual risk of many policyholders.\n",
    "\n",
    "2. **Strategic Premium Adjustments**: We can implement targeted premium adjustments based on risk categories:\n",
    "   - Low Risk: Potential for modest premium reductions to improve competitiveness and retention\n",
    "   - Medium Risk: Minimal adjustments needed for most members\n",
    "   - High and Very High Risk: Significant premium increases may be warranted, although these should be implemented strategically (potentially with added benefits or services) to mitigate retention risk\n",
    "\n",
    "3. **Granular Pricing Model**: Our model enables a shift from a simplified factor-based pricing approach to a more sophisticated, predictive model-based approach that better aligns premiums with expected claims."
   ]
  }
 ],
 "metadata": {
  "kernelspec": {
   "display_name": "Python 3 (ipykernel)",
   "language": "python",
   "name": "python3"
  },
  "language_info": {
   "codemirror_mode": {
    "name": "ipython",
    "version": 3
   },
   "file_extension": ".py",
   "mimetype": "text/x-python",
   "name": "python",
   "nbconvert_exporter": "python",
   "pygments_lexer": "ipython3",
   "version": "3.11.9"
  }
 },
 "nbformat": 4,
 "nbformat_minor": 4
}